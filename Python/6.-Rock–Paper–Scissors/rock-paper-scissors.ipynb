{
 "cells": [
  {
   "cell_type": "markdown",
   "metadata": {},
   "source": [
    "<img src=\"https://bit.ly/2VnXWr2\" width=\"100\" align=\"left\">"
   ]
  },
  {
   "cell_type": "markdown",
   "metadata": {},
   "source": [
    "# Rock, Paper & Scissors\n",
    "\n",
    "Let's play the famous game against our computer. You can check the rules [here](https://en.wikipedia.org/wiki/Rock%E2%80%93paper%E2%80%93scissors). \n",
    "\n",
    "## Task\n",
    "Create a program that imitates the playability of the well known game of rock, paper, scissors. Follow the guidelines provided.\n",
    "\n",
    "## Tools\n",
    "1. Loop: **for/while**\n",
    "2. Functions: **input(), print()...**\n",
    "3. Conditional statements: **if, elif, else**\n",
    "4. Definition of functions. Modular programming\n",
    "5. Import modules\n",
    "\n",
    "**To solve this challenge, the use of functions is recommended.**\n",
    "\n",
    "#### 1. Import the choice function of the random module."
   ]
  },
  {
   "cell_type": "code",
   "execution_count": 1,
   "metadata": {},
   "outputs": [],
   "source": [
    "import random"
   ]
  },
  {
   "cell_type": "markdown",
   "metadata": {},
   "source": [
    "#### 2. Create a list that includes the 3 possible gesture options of the game: 'rock', 'paper' or 'scissors'. Store the list in a variable called `gestures`."
   ]
  },
  {
   "cell_type": "code",
   "execution_count": 2,
   "metadata": {},
   "outputs": [],
   "source": [
    "gestures = [\"rock\",\"paper\",\"scissors\"]\n",
    "value = {\"rock\":0, \"paper\":1, \"scissors\":2} #We assign a value to each option using a dictionary. This will be used later.\n",
    "win_combinations = [[0,2],[1,0],[2,1]] #We fill a small nested list with the possible winning combinations. "
   ]
  },
  {
   "cell_type": "markdown",
   "metadata": {},
   "source": [
    "#### 3. Create a variable called `n_rounds` to store the maximum number of rounds to play in a game. \n",
    "Remember that the number of rounds must be odd: 1, 3, 5, ..."
   ]
  },
  {
   "cell_type": "code",
   "execution_count": 3,
   "metadata": {},
   "outputs": [],
   "source": [
    "n_rounds = 5"
   ]
  },
  {
   "cell_type": "markdown",
   "metadata": {},
   "source": [
    "#### 4. Create a variable called `rounds_to_win` to store the number of rounds that a player must win to win the game.\n",
    "**Hint**: the value stored in `rounds_to_win` depends on the value of `n_rounds`. "
   ]
  },
  {
   "cell_type": "code",
   "execution_count": 4,
   "metadata": {},
   "outputs": [],
   "source": [
    "rounds_to_win = 3"
   ]
  },
  {
   "cell_type": "markdown",
   "metadata": {},
   "source": [
    "#### 5. Create two variables to store the number of rounds that the computer and the player have won. Call these variables `cpu_score` and `player_score`."
   ]
  },
  {
   "cell_type": "code",
   "execution_count": 5,
   "metadata": {},
   "outputs": [],
   "source": [
    "cpu_score = 0\n",
    "player_score = 0"
   ]
  },
  {
   "cell_type": "markdown",
   "metadata": {},
   "source": [
    "#### 6. Define a function that randomly returns one of the 3 gesture options.\n",
    "You will use this function to simulate the gesture choice of the computer. "
   ]
  },
  {
   "cell_type": "code",
   "execution_count": 6,
   "metadata": {},
   "outputs": [],
   "source": [
    "def rnd(list):\n",
    "    return(random.choice(gestures)) #This will return a random choice from the \"gestures\" list."
   ]
  },
  {
   "cell_type": "markdown",
   "metadata": {},
   "source": [
    "#### 7. Define a function that asks the player which is the gesture he or she wants to show: 'rock', 'paper' or 'scissors'.\n",
    "The player should only be allowed to choose one of the 3 gesture options. If the player's choice is not rock, paper or scissors, keep asking until it is."
   ]
  },
  {
   "cell_type": "code",
   "execution_count": 7,
   "metadata": {},
   "outputs": [],
   "source": [
    "def choice():\n",
    "    player_choice = input(\"Choose rock, paper or scissors:\")\n",
    "    while player_choice not in gestures: #This keeps asking the question until the input is in the options list.\n",
    "        print(\"Please choose a valid option.\")\n",
    "        player_choice = input(\"Choose rock, paper or scissors:\")\n",
    "    return player_choice"
   ]
  },
  {
   "cell_type": "markdown",
   "metadata": {},
   "source": [
    "#### 8. Define a function that checks who won a round. \n",
    "The function should return 0 if there is a tie, 1 if the computer wins and 2 if the player wins."
   ]
  },
  {
   "cell_type": "code",
   "execution_count": 8,
   "metadata": {},
   "outputs": [],
   "source": [
    "def win_check(choice1, choice2):\n",
    "        if choice1 == choice2:\n",
    "            return(0)\n",
    "        elif [value[choice1],value[choice2]] in win_combinations: \n",
    "            return(2)\n",
    "        else:\n",
    "            return(1)"
   ]
  },
  {
   "cell_type": "markdown",
   "metadata": {},
   "source": [
    "#### 9. Define a function that prints the choice of the computer, the choice of the player and a message that announces who won the current round. \n",
    "You should also use this function to update the variables that count the number of rounds that the computer and the player have won. The score of the winner increases by one point. If there is a tie, the score does not increase."
   ]
  },
  {
   "cell_type": "code",
   "execution_count": 9,
   "metadata": {},
   "outputs": [],
   "source": [
    "def print_win():\n",
    "    global cpu_score\n",
    "    global player_score\n",
    "    print(\"The player chose\",p_choice,\"and the cpu chose\",cpu_choice)\n",
    "    if win == 0: #In case of a draw the score doesn't update.\n",
    "        print(\"This round is a draw.\")\n",
    "    elif win == 2:\n",
    "        print(\"The player wins this round.\")\n",
    "        player_score += 1 #Updating the score.\n",
    "    elif win == 1:\n",
    "        print(\"The cpu wins this round.\")\n",
    "        cpu_score += 1"
   ]
  },
  {
   "cell_type": "markdown",
   "metadata": {},
   "source": [
    "#### 10. Now it's time to code the execution of the game using the functions and variables you defined above. \n",
    "\n",
    "First, create a loop structure that repeats while no player reaches the minimum score necessary to win and the number of rounds is less than the maximum number of rounds to play in a game.  \n",
    "\n",
    "Inside the loop, use the functions and variables above to create the execution of a round: ask for the player's choice, generate the random choice of the computer, show the round results, update the scores, etc. "
   ]
  },
  {
   "cell_type": "code",
   "execution_count": 10,
   "metadata": {},
   "outputs": [
    {
     "name": "stdout",
     "output_type": "stream",
     "text": [
      "Choose rock, paper or scissors:paper\n",
      "The player chose paper and the cpu chose paper\n",
      "This round is a draw.\n",
      "Choose rock, paper or scissors:scissors\n",
      "The player chose scissors and the cpu chose rock\n",
      "The cpu wins this round.\n",
      "Choose rock, paper or scissors:rock\n",
      "The player chose rock and the cpu chose paper\n",
      "The cpu wins this round.\n",
      "Choose rock, paper or scissors:paper\n",
      "The player chose paper and the cpu chose scissors\n",
      "The cpu wins this round.\n"
     ]
    }
   ],
   "source": [
    "while ((player_score + cpu_score) < n_rounds) and ((player_score or cpu_score) != rounds_to_win):\n",
    "    p_choice = choice()\n",
    "    cpu_choice = rnd(gestures)\n",
    "    win = win_check(p_choice,cpu_choice)\n",
    "    print_win()\n",
    "#We've defined simple variables that we'll use only inside this little \"while\" loop, to keep things tidy."
   ]
  },
  {
   "cell_type": "markdown",
   "metadata": {},
   "source": [
    "#### 11. Print the winner of the game based on who won more rounds.\n",
    "Remember that the game might be tied. "
   ]
  },
  {
   "cell_type": "code",
   "execution_count": 11,
   "metadata": {},
   "outputs": [
    {
     "name": "stdout",
     "output_type": "stream",
     "text": [
      "The cpu won the game.\n"
     ]
    }
   ],
   "source": [
    "if player_score >= rounds_to_win:\n",
    "    print(\"The player won the game.\")\n",
    "else:\n",
    "    print(\"The cpu won the game.\")    "
   ]
  },
  {
   "cell_type": "markdown",
   "metadata": {},
   "source": [
    "# Bonus: Rock, Paper, Scissors, Lizard & Spock\n",
    "![](images/rpsls.jpg)\n",
    "\n",
    "In this challenge, you need to improve the previous game by adding two new options. To know more about the rules of the improved version of rock, paper, scissors, check this [link](http://www.samkass.com/theories/RPSSL.html). \n",
    "\n",
    "In addition, you will also need to improve how the game interacts with the player: the number of rounds to play, which must be an odd number, will be requested to the user until a valid number is entered. Define a new function to make that request.\n",
    "\n",
    "**Hint**: Try to reuse the code that you already coded in the previous challenge. If your code is efficient, this bonus will only consist of simple modifications to the original game."
   ]
  },
  {
   "cell_type": "code",
   "execution_count": 12,
   "metadata": {},
   "outputs": [
    {
     "name": "stdout",
     "output_type": "stream",
     "text": [
      "Choose a number of rounds, it must be an odd number:6\n",
      "You chose an even number.\n",
      "Please choose an odd number of rounds:5\n",
      "Choose rock, paper, scissors, lizard or spock:rock\n",
      "The player chose rock and the cpu chose spock\n",
      "The cpu wins this round.\n",
      "Choose rock, paper, scissors, lizard or spock:spock\n",
      "The player chose spock and the cpu chose paper\n",
      "The cpu wins this round.\n",
      "Choose rock, paper, scissors, lizard or spock:paper\n",
      "The player chose paper and the cpu chose spock\n",
      "The player wins this round.\n",
      "Choose rock, paper, scissors, lizard or spock:scissors\n",
      "The player chose scissors and the cpu chose spock\n",
      "The cpu wins this round.\n",
      "Choose rock, paper, scissors, lizard or spock:rock\n",
      "The player chose rock and the cpu chose scissors\n",
      "The player wins this round.\n",
      "The cpu won the game.\n"
     ]
    }
   ],
   "source": [
    "gestures = [\"rock\",\"paper\",\"scissors\",\"lizard\",\"spock\"]\n",
    "value = {\"rock\":0, \"paper\":1, \"scissors\":2}\n",
    "value[\"lizard\"] = 3 #Adding the new options to our dictionary.\n",
    "value[\"spock\"] = 4\n",
    "win_combinations = [[0,2],[1,0],[2,1]]\n",
    "win_combinations_2 = [[2,3],[1,4],[3,1],[4,0],[3,4],[0,3],[4,2]] #A list with our new win combinations.\n",
    "win_combinations = win_combinations + win_combinations_2 #Updating the original list.\n",
    "\n",
    "cpu_score = 0 #Resetting our scoreboards.\n",
    "player_score = 0\n",
    "\n",
    "def num_rounds():\n",
    "    rounds = input(\"Choose a number of rounds, it must be an odd number:\") #Asks for an odd number.\n",
    "    while (int(rounds) % 2) == 0: #Checks if the number is odd, keeps asking if it isn't.\n",
    "        print(\"You chose an even number.\")\n",
    "        rounds = input(\"Please choose an odd number of rounds:\")\n",
    "    return rounds\n",
    "\n",
    "n_rounds = int(num_rounds()) #Converting the output (string) into an integer.\n",
    "\n",
    "def win_rounds():\n",
    "    global n_rounds\n",
    "    wingames = int(float(n_rounds) / 2 + 1) #The number of games to win will be half the games + 1.\n",
    "    return wingames\n",
    "\n",
    "def choice():\n",
    "    player_choice = input(\"Choose rock, paper, scissors, lizard or spock:\") #We simply modify two lines to account for the\n",
    "    while player_choice not in gestures:                                    #extra choices.\n",
    "        print(\"Please choose a valid option.\")\n",
    "        player_choice = input(\"Choose rock, paper, scissors, lizard or spock:\")\n",
    "    return player_choice\n",
    "\n",
    "while ((player_score + cpu_score) < n_rounds) and ((player_score or cpu_score) != rounds_to_win):\n",
    "    p_choice = choice()\n",
    "    cpu_choice = rnd(gestures)\n",
    "    win = win_check(p_choice,cpu_choice)\n",
    "    print_win() #We can use modular programming and re-use the exact same code as used before.\n",
    "    \n",
    "if player_score >= rounds_to_win:\n",
    "    print(\"The player won the game.\")\n",
    "else:\n",
    "    print(\"The cpu won the game.\") #Re-using our code.\n",
    "    \n",
    "    \n",
    "#Note: while this exercise could be completed without the use of a win_combinations list and the use of a dictionary,\n",
    "#(and my first try didn't make use of them), I believe that using both nested lists and dictionaries makes the exercise\n",
    "#more interesting and simpler, in many ways. For example, instead of re-writing our code in the bonus section we just had to\n",
    "#update our list and dictionary taking into account the new data. And it would make our job easier if we wanted to change\n",
    "#it again in the future."
   ]
  },
  {
   "cell_type": "code",
   "execution_count": null,
   "metadata": {},
   "outputs": [],
   "source": []
  },
  {
   "cell_type": "code",
   "execution_count": null,
   "metadata": {},
   "outputs": [],
   "source": []
  }
 ],
 "metadata": {
  "kernelspec": {
   "display_name": "Python 3",
   "language": "python",
   "name": "python3"
  },
  "language_info": {
   "codemirror_mode": {
    "name": "ipython",
    "version": 3
   },
   "file_extension": ".py",
   "mimetype": "text/x-python",
   "name": "python",
   "nbconvert_exporter": "python",
   "pygments_lexer": "ipython3",
   "version": "3.8.3"
  }
 },
 "nbformat": 4,
 "nbformat_minor": 2
}
