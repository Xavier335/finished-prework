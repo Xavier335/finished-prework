{
 "cells": [
  {
   "cell_type": "markdown",
   "metadata": {},
   "source": [
    "<img src=\"https://bit.ly/2VnXWr2\" width=\"100\" align=\"left\"/>"
   ]
  },
  {
   "cell_type": "markdown",
   "metadata": {},
   "source": [
    "# Robin Hood\n",
    "Robin Hood has entered a competition to win the archery contest in Sherwood. With his bow and arrows, he needs to shoot on a target and try to hit as close as possible to the center.\n",
    "\n",
    "![](images/arrows.jpg)\n",
    "\n",
    "## Context\n",
    "In this challenge, the landing position of arrows shot by archers in the competition will be represented using 2-dimensional coordinates. \n",
    "\n",
    "In the 2-dimensional space, a point can be defined by a pair of values that correspond to the horizontal coordinate (x) and the vertical coordinate (y). For example, in our case, an arrow that hits the center of the archery target will land in position (0, 0) on the coordinate axes. \n",
    "\n",
    "The space can be divided into 4 zones (quadrants): Q1, Q2, Q3, Q4. If a point is in Q1, both its x coordinate and y coordinate are positive. Any point with a null x or y coordinate is considered to not belong to any quadrant. \n",
    "\n",
    "If you want to know more about the cartesian coordinate system, you can check this [link](https://en.wikipedia.org/wiki/Cartesian_coordinate_system). \n",
    "\n",
    "## Tools\n",
    "You don't necessarily need to use all the tools. Maybe you opt to use some of them or completely different ones, they are given to help you shape the exercise. Programming exercises can be solved in many different ways.\n",
    "* Data structures: **lists, sets, tuples**\n",
    "* Conditional statements: **if-elif-else**\n",
    "* Loop: **while/for**\n",
    "* Minimum (optional sorting)\n",
    "\n",
    "## Tasks\n",
    "Robin Hood has hit the following points:"
   ]
  },
  {
   "cell_type": "code",
   "execution_count": 1,
   "metadata": {},
   "outputs": [],
   "source": [
    "points = [(4, 5), (-0, 2), (4, 7), (1, -3), (3, -2), (4, 5), (3, 2), (5, 7), (-5, 7), (2, 2), (-4, 5), (0, -2),\n",
    "          (-4, 7), (-1, 3), (-3, 2), (-4, -5), (-3, 2), (5, 7), (5, 7), (2, 2), (9, 9), (-8, -9)]"
   ]
  },
  {
   "cell_type": "markdown",
   "metadata": {},
   "source": [
    "#### 1. Robin Hood is famous for hitting an arrow with another arrow. Find the coordinates of the points where an arrow hits another arrow."
   ]
  },
  {
   "cell_type": "code",
   "execution_count": 2,
   "metadata": {},
   "outputs": [
    {
     "name": "stdout",
     "output_type": "stream",
     "text": [
      "The points where an arrow hits another arrow are {(-3, 2), (4, 5), (5, 7), (2, 2)}\n"
     ]
    }
   ],
   "source": [
    "points_2 = [] #A list for non-duplicate coordinates.\n",
    "coordinates = [] #A list for duplicate coordinates.\n",
    "\n",
    "for point in points:\n",
    "    if point in points_2:\n",
    "        coordinates.append(point)\n",
    "    else:\n",
    "        points_2.append(point)\n",
    "        \n",
    "print(\"The points where an arrow hits another arrow are\",set(coordinates)) #We use sets because we don't need duplicate values."
   ]
  },
  {
   "cell_type": "markdown",
   "metadata": {},
   "source": [
    "#### 2. Calculate how many arrows have fallen in each quadrant. \n",
    "**Note**: the arrows that fall in the axis (x=0 or y=0) don't belong to any quadrant."
   ]
  },
  {
   "cell_type": "code",
   "execution_count": 4,
   "metadata": {},
   "outputs": [
    {
     "name": "stdout",
     "output_type": "stream",
     "text": [
      "10 arrows have fallen in Q1.\n",
      "6 arrows have fallen in Q2.\n",
      "2 arrows have fallen in Q3.\n",
      "2 arrows have fallen in Q4.\n",
      "2 arrows haven't fallen in a quadrant.\n"
     ]
    }
   ],
   "source": [
    "Q1 = [] #Defining a list for each quadrant.\n",
    "Q2 = []\n",
    "Q3 = []\n",
    "Q4 = []\n",
    "noQ = []\n",
    "\n",
    "for point in points:\n",
    "    if point[0] == 0 or point[1] == 0: #Checking for arrows that don't belong in a quadrant.\n",
    "        noQ.append(1)\n",
    "    elif point[0] > 0 and point[1] > 0: #Checking the values for x and y to determine the corresponding quadrant.\n",
    "        Q1.append(1) #Adding an arrow to the quadrant.\n",
    "    elif point[0] < 0 and point[1] > 0:\n",
    "        Q2.append(1)\n",
    "    elif point[0] < 0 and point[1] < 0:\n",
    "        Q3.append(1)\n",
    "    else:\n",
    "        Q4.append(1)\n",
    "        \n",
    "print(sum(Q1), \"arrows have fallen in Q1.\") \n",
    "print(sum(Q2), \"arrows have fallen in Q2.\")\n",
    "print(sum(Q3), \"arrows have fallen in Q3.\")\n",
    "print(sum(Q4), \"arrows have fallen in Q4.\")\n",
    "print(sum(noQ), \"arrows haven't fallen in a quadrant.\")"
   ]
  },
  {
   "cell_type": "markdown",
   "metadata": {},
   "source": [
    "#### 3. Find the point closest to the center. Calculate its distance to the center. \n",
    "Take into account that there might be more than one point at the minimum distance to the center.\n",
    "\n",
    "**Hint**: Use the Euclidean distance. You can find more information about it [here](https://en.wikipedia.org/wiki/Euclidean_distance).  \n",
    "**Hint**: Defining a function that calculates the distance to the center can help."
   ]
  },
  {
   "cell_type": "code",
   "execution_count": 8,
   "metadata": {},
   "outputs": [
    {
     "name": "stdout",
     "output_type": "stream",
     "text": [
      "The point closest to the center is  2.0\n"
     ]
    }
   ],
   "source": [
    "import math\n",
    "arrow_distances = [] #Making a list for the distances.\n",
    "\n",
    "def distance(a, b): #Defining our function to calculate the distance to the center. \n",
    "    return(math.sqrt(a**2 + b**2))\n",
    "\n",
    "for point in points:\n",
    "    arrow_distances.append(distance(point[0], point[1])) #Adding the resulting distance to the list.\n",
    "    \n",
    "print(\"The point closest to the center is \", min(arrow_distances)) #Looking for the minimum distance in the list."
   ]
  },
  {
   "cell_type": "markdown",
   "metadata": {},
   "source": [
    "#### 4. If the archery target has a radius of 9, calculate the number of arrows that won't hit the target. \n",
    "**Hint**: Use the function created in step 3. "
   ]
  },
  {
   "cell_type": "code",
   "execution_count": 11,
   "metadata": {},
   "outputs": [
    {
     "name": "stdout",
     "output_type": "stream",
     "text": [
      "We must pick 2 arrows from the forest.\n"
     ]
    }
   ],
   "source": [
    "arrows_forest = 0 #A simple counter for the arrows that land in the forest.\n",
    "\n",
    "for point in points:\n",
    "    if distance(point[0], point[1]) >= 9: #Using the previously defined function.\n",
    "        arrows_forest += 1\n",
    "\n",
    "print(\"We must pick\",arrows_forest,\"arrows from the forest.\")"
   ]
  },
  {
   "cell_type": "code",
   "execution_count": null,
   "metadata": {},
   "outputs": [],
   "source": []
  }
 ],
 "metadata": {
  "kernelspec": {
   "display_name": "Python 3",
   "language": "python",
   "name": "python3"
  },
  "language_info": {
   "codemirror_mode": {
    "name": "ipython",
    "version": 3
   },
   "file_extension": ".py",
   "mimetype": "text/x-python",
   "name": "python",
   "nbconvert_exporter": "python",
   "pygments_lexer": "ipython3",
   "version": "3.8.3"
  }
 },
 "nbformat": 4,
 "nbformat_minor": 2
}
